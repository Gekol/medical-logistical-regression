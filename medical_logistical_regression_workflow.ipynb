{
 "cells": [
  {
   "cell_type": "code",
   "execution_count": null,
   "metadata": {
    "collapsed": true
   },
   "outputs": [],
   "source": [
    "import json\n",
    "import boto3\n",
    "import tarfile\n",
    "from sagemaker import session, get_execution_role, image_uris\n",
    "from sagemaker.inputs import CreateModelInput, TrainingInput\n",
    "from sagemaker.processing import ProcessingInput, ProcessingOutput\n",
    "from sagemaker.workflow.parameters import (\n",
    "    ParameterInteger,\n",
    "    ParameterString\n",
    ")\n",
    "from sagemaker.sklearn.processing import SKLearnProcessor\n",
    "from sagemaker.sklearn.estimator import SKLearn\n",
    "from sagemaker.workflow.steps import ProcessingStep, TrainingStep, CreateModelStep\n",
    "from sagemaker.workflow.step_collections import RegisterModel\n",
    "from sagemaker.workflow.properties import PropertyFile\n",
    "from sagemaker.workflow.pipeline import Pipeline\n",
    "from sagemaker.workflow.conditions import ConditionGreaterThanOrEqualTo\n",
    "from sagemaker.workflow.condition_step import ConditionStep, JsonGet\n",
    "from sagemaker.model_metrics import MetricsSource, ModelMetrics\n",
    "from sagemaker.model import Model"
   ]
  },
  {
   "cell_type": "markdown",
   "source": [
    "## Set up the environment"
   ],
   "metadata": {
    "collapsed": false
   }
  },
  {
   "cell_type": "code",
   "execution_count": null,
   "outputs": [],
   "source": [
    "region = boto3.Session().region_name\n",
    "sagemaker_session = session.Session()\n",
    "default_bucket = sagemaker_session.default_bucket()\n",
    "role = get_execution_role()\n",
    "model_package_group_name = \"MedicalLogisticalRegressionPackageGroup\""
   ],
   "metadata": {
    "collapsed": false
   }
  },
  {
   "cell_type": "markdown",
   "source": [
    "## Constants"
   ],
   "metadata": {
    "collapsed": false
   }
  },
  {
   "cell_type": "code",
   "execution_count": null,
   "outputs": [],
   "source": [
    "BUCKET = 'sagemaker-medical-logistical-regression-data-storage'\n",
    "DATA_KEY = 'data.xlsx'\n",
    "TARGET_COLUMN = \"осложнения есть/нет\""
   ],
   "metadata": {
    "collapsed": false
   }
  },
  {
   "cell_type": "markdown",
   "source": [
    "## Define a Preprocessing Step"
   ],
   "metadata": {
    "collapsed": false
   }
  },
  {
   "cell_type": "code",
   "execution_count": null,
   "outputs": [],
   "source": [
    "framework_version = \"0.23-1\"\n",
    "data_location = f's3://{BUCKET}/{DATA_KEY}'\n",
    "\n",
    "processing_instance_type = ParameterString(\n",
    "    name=\"ProcessingInstanceType\",\n",
    "    default_value=\"ml.t3.medium\"\n",
    ")\n",
    "processing_instance_count = ParameterInteger(\n",
    "    name=\"ProcessingInstanceCount\",\n",
    "    default_value=1\n",
    ")\n",
    "processing_outputs_path = ParameterString(\n",
    "    name=\"ProcessingOutputsPath\",\n",
    "    default_value=f\"s3://{default_bucket}\"\n",
    ")\n",
    "model_approval_status = ParameterString(\n",
    "    name=\"ModelApprovalStatus\",\n",
    "    default_value=\"PendingManualApproval\"\n",
    ")\n",
    "target_column = ParameterString(\n",
    "    name=\"TargetColumn\",\n",
    "    default_value=TARGET_COLUMN\n",
    ")"
   ],
   "metadata": {
    "collapsed": false
   }
  },
  {
   "cell_type": "code",
   "execution_count": null,
   "outputs": [],
   "source": [
    "sklearn_processor = SKLearnProcessor(\n",
    "    framework_version=framework_version,\n",
    "    instance_type=processing_instance_type,\n",
    "    instance_count=processing_instance_count,\n",
    "    sagemaker_session=sagemaker_session,\n",
    "    role=role,\n",
    ")"
   ],
   "metadata": {
    "collapsed": false
   }
  },
  {
   "cell_type": "code",
   "execution_count": null,
   "outputs": [],
   "source": [
    "step_process = ProcessingStep(\n",
    "    name=\"PreprocessingStep\",\n",
    "    processor=sklearn_processor,\n",
    "    inputs=[\n",
    "      ProcessingInput(\n",
    "          input_name='raw_data',\n",
    "          source=data_location,\n",
    "          destination=\"/opt/ml/processing/input\"\n",
    "      ),\n",
    "    ],\n",
    "    outputs=[\n",
    "        ProcessingOutput(\n",
    "            output_name=\"X_train\",\n",
    "            source=\"/opt/ml/train/X_train\",\n",
    "            destination=f\"s3://{default_bucket}/opt/ml/train/X_train\"\n",
    "        ),\n",
    "        ProcessingOutput(\n",
    "            output_name=\"X_test\",\n",
    "            source=\"/opt/ml/train/X_test\",\n",
    "            destination=f\"s3://{default_bucket}/opt/ml/train/X_test\"\n",
    "        ),\n",
    "        ProcessingOutput(\n",
    "            output_name=\"y_train\",\n",
    "            source=\"/opt/ml/train/y_train\",\n",
    "            destination=f\"s3://{default_bucket}/opt/ml/train/y_train\"\n",
    "        ),\n",
    "        ProcessingOutput(\n",
    "            output_name=\"y_test\",\n",
    "            source=\"/opt/ml/train/y_test\",\n",
    "            destination=f\"s3://{default_bucket}/opt/ml/train/y_test\"\n",
    "        ),\n",
    "    ],\n",
    "    code=\"./scripts/preprocessing.py\",\n",
    "    job_arguments=[\n",
    "        '--target-column', TARGET_COLUMN\n",
    "    ],\n",
    ")"
   ],
   "metadata": {
    "collapsed": false
   }
  },
  {
   "cell_type": "markdown",
   "source": [
    "## Define a Training step"
   ],
   "metadata": {
    "collapsed": false
   }
  },
  {
   "cell_type": "code",
   "execution_count": null,
   "outputs": [],
   "source": [
    "def make_tarfile(files):\n",
    "    tar = tarfile.open(\"sourcedir.tar.gz\", \"w:gz\")\n",
    "    for name in files:\n",
    "        tar.add(name)\n",
    "    tar.close()\n",
    "    return \"file processed\""
   ],
   "metadata": {
    "collapsed": false
   }
  },
  {
   "cell_type": "code",
   "execution_count": null,
   "outputs": [],
   "source": [
    "training_instance_count = ParameterInteger(\n",
    "    name=\"TrainingInstanceCount\",\n",
    "    default_value=1\n",
    ")\n",
    "training_instance_type = ParameterString(\n",
    "    name=\"TrainingInstanceType\",\n",
    "    default_value=\"ml.t3.medium\"\n",
    ")\n",
    "training_output_path = ParameterString(\n",
    "    name=\"TrainingOutputPath\",\n",
    "    default_value=f\"s3://{default_bucket}/artifacts/models/medical_logistic_regression\"\n",
    ")\n",
    "model_path = f\"s3://{default_bucket}/trained_model\""
   ],
   "metadata": {
    "collapsed": false
   }
  },
  {
   "cell_type": "code",
   "execution_count": null,
   "outputs": [],
   "source": [
    "make_tarfile([\"scripts/train.py\"])"
   ],
   "metadata": {
    "collapsed": false
   }
  },
  {
   "cell_type": "code",
   "execution_count": null,
   "outputs": [],
   "source": [
    "sklearn_estimator = SKLearn(\n",
    "    entry_point='./scripts/train.py',\n",
    "    source_dir=f's3://{default_bucket}/models/medical-logistic-regression/train/sourcedir.tar.gz',\n",
    "    framework_version=framework_version,\n",
    "    instance_type=training_instance_type,\n",
    "    role=role,\n",
    "    output_path=training_output_path,\n",
    "    sagemaker_session=sagemaker_session,\n",
    "    hyperparameters={\"regularisation_parameter\": 2}\n",
    ")"
   ],
   "metadata": {
    "collapsed": false
   }
  },
  {
   "cell_type": "code",
   "execution_count": null,
   "outputs": [],
   "source": [
    "step_train = TrainingStep(\n",
    "    name=\"TrainStep\",\n",
    "    estimator=sklearn_estimator,\n",
    "    inputs={\n",
    "        \"train\": TrainingInput(\n",
    "            s3_data=step_process.properties.ProcessingOutputConfig.Outputs[\n",
    "                \"train\"\n",
    "            ].S3Output.S3Uri,\n",
    "            content_type=\"text/csv\"\n",
    "        )\n",
    "    },\n",
    "    depends_on=['PreprocessingStep']\n",
    ")"
   ],
   "metadata": {
    "collapsed": false
   }
  },
  {
   "cell_type": "markdown",
   "source": [
    "## Define evaluation step"
   ],
   "metadata": {
    "collapsed": false
   }
  },
  {
   "cell_type": "code",
   "execution_count": null,
   "outputs": [],
   "source": [
    "evaluation_output_path = ParameterString(\n",
    "    name=\"EvaluationOutputPath\",\n",
    "    default_value=f's3://{default_bucket}/opt/ml/processing/output/evaluation'\n",
    ")"
   ],
   "metadata": {
    "collapsed": false
   }
  },
  {
   "cell_type": "code",
   "execution_count": null,
   "outputs": [],
   "source": [
    "sklearn_processor_evaluate = SKLearnProcessor(\n",
    "    framework_version=framework_version,\n",
    "    instance_type=processing_instance_type,\n",
    "    instance_count=processing_instance_count,\n",
    "    role=role,\n",
    "    sagemaker_session=sagemaker_session\n",
    ")"
   ],
   "metadata": {
    "collapsed": false
   }
  },
  {
   "cell_type": "code",
   "execution_count": null,
   "outputs": [],
   "source": [
    "evaluation_report = PropertyFile(\n",
    "    name=\"EvaluationReport\", output_name=\"evaluation\", path=\"evaluation.json\"\n",
    ")"
   ],
   "metadata": {
    "collapsed": false
   }
  },
  {
   "cell_type": "code",
   "execution_count": null,
   "outputs": [],
   "source": [
    "step_eval = ProcessingStep(\n",
    "    name=\"EvaluationStep\",\n",
    "    processor=sklearn_processor_evaluate,\n",
    "    inputs=[\n",
    "        ProcessingInput(\n",
    "            input_name='model',\n",
    "            source=step_train.properties.ModelArtifacts.S3ModelArtifacts,\n",
    "            destination=f's3://{default_bucket}/opt/ml/processing/input/model'\n",
    "        )\n",
    "    ],\n",
    "    outputs=[\n",
    "        ProcessingOutput(\n",
    "            output_name='evaluation',\n",
    "            source='/opt/ml/processing/output/evaluation',\n",
    "            destination=evaluation_output_path\n",
    "        )],\n",
    "    code='./scripts/evaluation.py',\n",
    "    property_files=[evaluation_report],\n",
    "    depends_on=['TrainStep']\n",
    ")"
   ],
   "metadata": {
    "collapsed": false
   }
  },
  {
   "cell_type": "markdown",
   "source": [
    "## Define a RegisterModel Step to Create a Model Package"
   ],
   "metadata": {
    "collapsed": false
   }
  },
  {
   "cell_type": "code",
   "execution_count": null,
   "outputs": [],
   "source": [
    "register_model_inference_instance_type = ParameterString(\n",
    "    name=\"RegisterModelInferenceInstanceType\",\n",
    "    default_value=\"ml.m5.large\"\n",
    ")\n",
    "register_model_metrics = ParameterString(\n",
    "    name=\"RegisterModelMetrics\",\n",
    "    default_value=\"MedicalLogisticalRegressionModelMetrics\"\n",
    ")\n",
    "register_model_package_group_name = ParameterString(\n",
    "    name=\"RegisterModelPackageGroupName\",\n",
    "    default_value=\"MedicalLogisticalRegressionPackageGroup\"\n",
    ")\n",
    "report_metrics_complete_path = f\"s3://{default_bucket}/\" \\\n",
    "                               f\"/opt/ml/processing/evaluation/evaluation.json\"\n",
    "model_package_name = \"package-model-pipeline\""
   ],
   "metadata": {
    "collapsed": false
   }
  },
  {
   "cell_type": "code",
   "execution_count": null,
   "outputs": [],
   "source": [
    "model_metrics = ModelMetrics(\n",
    "    model_statistics=MetricsSource(\n",
    "        s3_uri=register_model_metrics,\n",
    "        content_type=\"application/json\",\n",
    "    )\n",
    ")"
   ],
   "metadata": {
    "collapsed": false
   }
  },
  {
   "cell_type": "code",
   "execution_count": null,
   "outputs": [],
   "source": [
    "step_register = RegisterModel(\n",
    "    name=\"RegisterStep\",\n",
    "    estimator=sklearn_estimator,\n",
    "    model_data=step_train.properties.ModelArtifacts.S3ModelArtifacts,\n",
    "    content_types=[\"text/csv\"],\n",
    "    response_types=[\"text/csv\"],\n",
    "    inference_instances=[register_model_inference_instance_type],\n",
    "    transform_instances=[register_model_inference_instance_type],\n",
    "    model_package_group_name=register_model_package_group_name,\n",
    "    approval_status=model_approval_status,\n",
    "    model_metrics=model_metrics,\n",
    "    depends_on=[f\"EvaluationStep\"]\n",
    ")"
   ],
   "metadata": {
    "collapsed": false
   }
  },
  {
   "cell_type": "markdown",
   "source": [
    "## Create Model"
   ],
   "metadata": {
    "collapsed": false
   }
  },
  {
   "cell_type": "code",
   "execution_count": null,
   "outputs": [],
   "source": [
    "image_uri = image_uris.retrieve(\n",
    "    framework=\"sklearn\",\n",
    "    region=region,\n",
    "    version=framework_version,\n",
    "    py_version=\"py3\",\n",
    "    instance_type=register_model_inference_instance_type,\n",
    ")"
   ],
   "metadata": {
    "collapsed": false
   }
  },
  {
   "cell_type": "code",
   "execution_count": null,
   "outputs": [],
   "source": [
    "model = Model(\n",
    "    image_uri=image_uri,\n",
    "    sagemaker_session=sagemaker_session,\n",
    "    role=role,\n",
    "    env={\n",
    "        'SAGEMAKER_CONTAINER_LOG_LEVEL': '20',\n",
    "        'SAGEMAKER_PROGRAM': './scripts/train.py',\n",
    "        'SAGEMAKER_REGION': region,\n",
    "        'SAGEMAKER_SUBMIT_DIRECTORY': f's3://{default_bucket}/'\n",
    "                                      f'models/medical-logistic-regression/train/sourcedir.tar.gz'\n",
    "    },\n",
    "    model_data=step_train.properties.ModelArtifacts.S3ModelArtifacts\n",
    ")"
   ],
   "metadata": {
    "collapsed": false
   }
  },
  {
   "cell_type": "code",
   "execution_count": null,
   "outputs": [],
   "source": [
    "inputs = CreateModelInput(\n",
    "    instance_type=register_model_inference_instance_type\n",
    ")"
   ],
   "metadata": {
    "collapsed": false
   }
  },
  {
   "cell_type": "code",
   "execution_count": null,
   "outputs": [],
   "source": [
    "step_create_model = CreateModelStep(\n",
    "    name=f'create-medical-logistic-regression-model',\n",
    "    model=model,\n",
    "    inputs=inputs,\n",
    "    depends_on=[f\"RegisterStep\"]\n",
    ")"
   ],
   "metadata": {
    "collapsed": false
   }
  },
  {
   "cell_type": "markdown",
   "source": [
    "## Define a Condition Step to Verify Model Accuracy"
   ],
   "metadata": {
    "collapsed": false
   }
  },
  {
   "cell_type": "code",
   "execution_count": null,
   "outputs": [],
   "source": [
    "cond_lte = ConditionGreaterThanOrEqualTo(\n",
    "    left=JsonGet(\n",
    "        step=step_eval,\n",
    "        property_file=evaluation_report,\n",
    "        json_path=\"classification_metrics.f1.value\",\n",
    "    ),\n",
    "    right=0.6,\n",
    ")"
   ],
   "metadata": {
    "collapsed": false
   }
  },
  {
   "cell_type": "code",
   "execution_count": null,
   "outputs": [],
   "source": [
    "step_cond = ConditionStep(\n",
    "    name=f\"ConditionStep\",\n",
    "    conditions=[cond_lte],\n",
    "    if_steps=[step_register, step_create_model],\n",
    "    else_steps=[]\n",
    ")"
   ],
   "metadata": {
    "collapsed": false
   }
  },
  {
   "cell_type": "markdown",
   "source": [
    "## Create a pipeline"
   ],
   "metadata": {
    "collapsed": false
   }
  },
  {
   "cell_type": "code",
   "execution_count": null,
   "outputs": [],
   "source": [
    "pipeline_name = f\"medical-logistic-regression-train-pipeline\"\n",
    "pipeline = Pipeline(\n",
    "    name=pipeline_name,\n",
    "    parameters=[\n",
    "        processing_instance_count,\n",
    "        processing_instance_type,\n",
    "        processing_outputs_path,\n",
    "        training_instance_count,\n",
    "        training_instance_type,\n",
    "        training_output_path,\n",
    "        evaluation_output_path,\n",
    "        register_model_inference_instance_type,\n",
    "        register_model_package_group_name,\n",
    "        register_model_metrics,\n",
    "        model_approval_status\n",
    "    ],\n",
    "    steps=[step_process, step_train, step_eval, step_cond],\n",
    ")"
   ],
   "metadata": {
    "collapsed": false
   }
  },
  {
   "cell_type": "code",
   "execution_count": null,
   "outputs": [],
   "source": [
    "json.loads(pipeline.definition())"
   ],
   "metadata": {
    "collapsed": false
   }
  },
  {
   "cell_type": "code",
   "execution_count": null,
   "outputs": [],
   "source": [
    "pipeline.upsert(role_arn=role)"
   ],
   "metadata": {
    "collapsed": false
   }
  },
  {
   "cell_type": "code",
   "execution_count": null,
   "outputs": [],
   "source": [
    "execution = pipeline.start()"
   ],
   "metadata": {
    "collapsed": false
   }
  },
  {
   "cell_type": "code",
   "execution_count": null,
   "outputs": [],
   "source": [
    "execution.describe()"
   ],
   "metadata": {
    "collapsed": false
   }
  },
  {
   "cell_type": "code",
   "execution_count": null,
   "outputs": [],
   "source": [
    "execution.list_steps()"
   ],
   "metadata": {
    "collapsed": false
   }
  }
 ],
 "metadata": {
  "kernelspec": {
   "display_name": "Python 3",
   "language": "python",
   "name": "python3"
  },
  "language_info": {
   "codemirror_mode": {
    "name": "ipython",
    "version": 2
   },
   "file_extension": ".py",
   "mimetype": "text/x-python",
   "name": "python",
   "nbconvert_exporter": "python",
   "pygments_lexer": "ipython2",
   "version": "2.7.6"
  }
 },
 "nbformat": 4,
 "nbformat_minor": 0
}
