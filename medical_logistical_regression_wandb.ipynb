{
 "cells": [
  {
   "cell_type": "code",
   "execution_count": 13,
   "metadata": {},
   "outputs": [],
   "source": [
    "import os\n",
    "import pandas as pd\n",
    "import numpy as np\n",
    "import wandb\n",
    "from sklearn.model_selection import train_test_split\n",
    "from sklearn.linear_model import LogisticRegression\n",
    "from sklearn.feature_selection import SequentialFeatureSelector\n",
    "from copy import deepcopy\n",
    "from joblib import dump, load\n",
    "import params\n",
    "from utils import *"
   ]
  },
  {
   "cell_type": "markdown",
   "metadata": {},
   "source": [
    "## Reading the data from Excel file and adding it as a W&B artifact"
   ]
  },
  {
   "cell_type": "code",
   "execution_count": 14,
   "metadata": {},
   "outputs": [],
   "source": [
    "prefix = \"raw_data\"\n",
    "file_name = \"data.xlsx\"\n",
    "data_location = f'{prefix}/{file_name}'"
   ]
  },
  {
   "cell_type": "code",
   "execution_count": 15,
   "metadata": {},
   "outputs": [],
   "source": [
    "def get_raw_data_step(project: str, entity: str, data_location: str):\n",
    "    data = pd.read_excel(data_location)\n",
    "\n",
    "    run = wandb.init(project=project, entity=entity, job_type=\"upload\")\n",
    "    try:\n",
    "        raw_data_artifact = wandb.Artifact('raw_data_artifact', type=\"raw_data\")\n",
    "\n",
    "        column_names = list(data.columns)\n",
    "\n",
    "        table = create_table(raw_data_artifact, data, column_names, \"raw_table\")\n",
    "\n",
    "        run.log_artifact(raw_data_artifact)\n",
    "    finally:\n",
    "        run.finish()"
   ]
  },
  {
   "cell_type": "code",
   "execution_count": 16,
   "metadata": {
    "scrolled": true
   },
   "outputs": [
    {
     "data": {
      "text/plain": "<IPython.core.display.HTML object>",
      "text/html": "wandb version 0.16.2 is available!  To upgrade, please run:\n $ pip install wandb --upgrade"
     },
     "metadata": {},
     "output_type": "display_data"
    },
    {
     "data": {
      "text/plain": "<IPython.core.display.HTML object>",
      "text/html": "Tracking run with wandb version 0.16.1"
     },
     "metadata": {},
     "output_type": "display_data"
    },
    {
     "data": {
      "text/plain": "<IPython.core.display.HTML object>",
      "text/html": "Run data is saved locally in <code>/Users/georgesokolovsky/medical_logistical_regression/wandb/run-20240117_193701-ms7dl6pw</code>"
     },
     "metadata": {},
     "output_type": "display_data"
    },
    {
     "data": {
      "text/plain": "<IPython.core.display.HTML object>",
      "text/html": "Syncing run <strong><a href='https://wandb.ai/george-sokolovsky2001/medical-logistical-regression/runs/ms7dl6pw' target=\"_blank\">elated-puddle-428</a></strong> to <a href='https://wandb.ai/george-sokolovsky2001/medical-logistical-regression' target=\"_blank\">Weights & Biases</a> (<a href='https://wandb.me/run' target=\"_blank\">docs</a>)<br/>"
     },
     "metadata": {},
     "output_type": "display_data"
    },
    {
     "data": {
      "text/plain": "<IPython.core.display.HTML object>",
      "text/html": " View project at <a href='https://wandb.ai/george-sokolovsky2001/medical-logistical-regression' target=\"_blank\">https://wandb.ai/george-sokolovsky2001/medical-logistical-regression</a>"
     },
     "metadata": {},
     "output_type": "display_data"
    },
    {
     "data": {
      "text/plain": "<IPython.core.display.HTML object>",
      "text/html": " View run at <a href='https://wandb.ai/george-sokolovsky2001/medical-logistical-regression/runs/ms7dl6pw' target=\"_blank\">https://wandb.ai/george-sokolovsky2001/medical-logistical-regression/runs/ms7dl6pw</a>"
     },
     "metadata": {},
     "output_type": "display_data"
    },
    {
     "data": {
      "text/plain": "VBox(children=(Label(value='0.001 MB of 0.009 MB uploaded\\r'), FloatProgress(value=0.1143264723863868, max=1.0…",
      "application/vnd.jupyter.widget-view+json": {
       "version_major": 2,
       "version_minor": 0,
       "model_id": "244b7408b9b94ad6afecc8a3e4934258"
      }
     },
     "metadata": {},
     "output_type": "display_data"
    },
    {
     "data": {
      "text/plain": "<IPython.core.display.HTML object>",
      "text/html": " View run <strong style=\"color:#cdcd00\">elated-puddle-428</strong> at: <a href='https://wandb.ai/george-sokolovsky2001/medical-logistical-regression/runs/ms7dl6pw' target=\"_blank\">https://wandb.ai/george-sokolovsky2001/medical-logistical-regression/runs/ms7dl6pw</a><br/> View job at <a href='https://wandb.ai/george-sokolovsky2001/medical-logistical-regression/jobs/QXJ0aWZhY3RDb2xsZWN0aW9uOjEzMDA2MTkwOQ==/version_details/v3' target=\"_blank\">https://wandb.ai/george-sokolovsky2001/medical-logistical-regression/jobs/QXJ0aWZhY3RDb2xsZWN0aW9uOjEzMDA2MTkwOQ==/version_details/v3</a><br/>Synced 5 W&B file(s), 0 media file(s), 0 artifact file(s) and 0 other file(s)"
     },
     "metadata": {},
     "output_type": "display_data"
    },
    {
     "data": {
      "text/plain": "<IPython.core.display.HTML object>",
      "text/html": "Find logs at: <code>./wandb/run-20240117_193701-ms7dl6pw/logs</code>"
     },
     "metadata": {},
     "output_type": "display_data"
    }
   ],
   "source": [
    "get_raw_data_step(\n",
    "    params.PROJECT_NAME,\n",
    "    params.ENTITY,\n",
    "    data_location\n",
    ")"
   ]
  },
  {
   "cell_type": "markdown",
   "metadata": {},
   "source": [
    "# Preprocessing"
   ]
  },
  {
   "cell_type": "code",
   "execution_count": 17,
   "metadata": {},
   "outputs": [],
   "source": [
    "def preprocessing_step(project_name, entity, quality_features_columns, target_column, test_size):\n",
    "    def preprocess(data: pd.DataFrame, quality_features_columns: List[str]):\n",
    "        data = data.drop(['N'], axis=1)\n",
    "        data = drop_records_with_many_nulls(data)\n",
    "        data = update_columns_with_nulls(data)\n",
    "        data = pd.get_dummies(data, columns=list(quality_features_columns), drop_first=True)\n",
    "        return data\n",
    "\n",
    "    run = wandb.init(project=project_name, entity=entity, job_type=\"train_data_preparation\")\n",
    "    try:\n",
    "        raw_data_artifact = run.use_artifact(f\"raw_data_artifact:latest\")\n",
    "        raw_data = raw_data_artifact.get(\"raw_table\").get_dataframe()\n",
    "        preprocessed_data = preprocess(raw_data, quality_features_columns)\n",
    "        x_train, x_test, y_train, y_test = split_data(preprocessed_data, target_column, test_size)\n",
    "        train_data = pd.concat([x_train, y_train], axis=1)\n",
    "        test_data = pd.concat([x_test, y_test], axis=1)\n",
    "\n",
    "        processed_data_artifact = wandb.Artifact(\"preprocessed_data_artifact\", type=\"preprocessed_data\", metadata={\n",
    "            \"train_data_row_count\": len(train_data),\n",
    "            \"test_data_row_count\": len(test_data)\n",
    "        })\n",
    "        preprocessed_data_table = create_table(\n",
    "            processed_data_artifact,\n",
    "            preprocessed_data,\n",
    "            list(preprocessed_data.columns),\n",
    "            \"preprocessed_data_table\"\n",
    "        )\n",
    "        train_table = create_table(\n",
    "            processed_data_artifact,\n",
    "            train_data,\n",
    "            list(train_data.columns),\n",
    "            \"train_table\"\n",
    "        )\n",
    "        test_table = create_table(\n",
    "            processed_data_artifact,\n",
    "            test_data,\n",
    "            list(test_data.columns),\n",
    "            \"test_table\"\n",
    "        )\n",
    "\n",
    "        run.log_artifact(processed_data_artifact)\n",
    "    finally:\n",
    "        run.finish()"
   ]
  },
  {
   "cell_type": "code",
   "execution_count": 18,
   "metadata": {},
   "outputs": [
    {
     "data": {
      "text/plain": "<IPython.core.display.HTML object>",
      "text/html": "wandb version 0.16.2 is available!  To upgrade, please run:\n $ pip install wandb --upgrade"
     },
     "metadata": {},
     "output_type": "display_data"
    },
    {
     "data": {
      "text/plain": "<IPython.core.display.HTML object>",
      "text/html": "Tracking run with wandb version 0.16.1"
     },
     "metadata": {},
     "output_type": "display_data"
    },
    {
     "data": {
      "text/plain": "<IPython.core.display.HTML object>",
      "text/html": "Run data is saved locally in <code>/Users/georgesokolovsky/medical_logistical_regression/wandb/run-20240117_193709-drjywbss</code>"
     },
     "metadata": {},
     "output_type": "display_data"
    },
    {
     "data": {
      "text/plain": "<IPython.core.display.HTML object>",
      "text/html": "Syncing run <strong><a href='https://wandb.ai/george-sokolovsky2001/medical-logistical-regression/runs/drjywbss' target=\"_blank\">proud-feather-429</a></strong> to <a href='https://wandb.ai/george-sokolovsky2001/medical-logistical-regression' target=\"_blank\">Weights & Biases</a> (<a href='https://wandb.me/run' target=\"_blank\">docs</a>)<br/>"
     },
     "metadata": {},
     "output_type": "display_data"
    },
    {
     "data": {
      "text/plain": "<IPython.core.display.HTML object>",
      "text/html": " View project at <a href='https://wandb.ai/george-sokolovsky2001/medical-logistical-regression' target=\"_blank\">https://wandb.ai/george-sokolovsky2001/medical-logistical-regression</a>"
     },
     "metadata": {},
     "output_type": "display_data"
    },
    {
     "data": {
      "text/plain": "<IPython.core.display.HTML object>",
      "text/html": " View run at <a href='https://wandb.ai/george-sokolovsky2001/medical-logistical-regression/runs/drjywbss' target=\"_blank\">https://wandb.ai/george-sokolovsky2001/medical-logistical-regression/runs/drjywbss</a>"
     },
     "metadata": {},
     "output_type": "display_data"
    },
    {
     "name": "stderr",
     "output_type": "stream",
     "text": [
      "\u001B[34m\u001B[1mwandb\u001B[0m:   1 of 1 files downloaded.  \n"
     ]
    },
    {
     "data": {
      "text/plain": "VBox(children=(Label(value='0.376 MB of 0.376 MB uploaded (0.176 MB deduped)\\r'), FloatProgress(value=1.0, max…",
      "application/vnd.jupyter.widget-view+json": {
       "version_major": 2,
       "version_minor": 0,
       "model_id": "e9ed972e313d489f987beffdad3d2d66"
      }
     },
     "metadata": {},
     "output_type": "display_data"
    },
    {
     "data": {
      "text/plain": "<IPython.core.display.HTML object>",
      "text/html": "W&B sync reduced upload amount by 45.7%             "
     },
     "metadata": {},
     "output_type": "display_data"
    },
    {
     "data": {
      "text/plain": "<IPython.core.display.HTML object>",
      "text/html": " View run <strong style=\"color:#cdcd00\">proud-feather-429</strong> at: <a href='https://wandb.ai/george-sokolovsky2001/medical-logistical-regression/runs/drjywbss' target=\"_blank\">https://wandb.ai/george-sokolovsky2001/medical-logistical-regression/runs/drjywbss</a><br/> View job at <a href='https://wandb.ai/george-sokolovsky2001/medical-logistical-regression/jobs/QXJ0aWZhY3RDb2xsZWN0aW9uOjEzMDA2MTkwOQ==/version_details/v3' target=\"_blank\">https://wandb.ai/george-sokolovsky2001/medical-logistical-regression/jobs/QXJ0aWZhY3RDb2xsZWN0aW9uOjEzMDA2MTkwOQ==/version_details/v3</a><br/>Synced 6 W&B file(s), 0 media file(s), 3 artifact file(s) and 0 other file(s)"
     },
     "metadata": {},
     "output_type": "display_data"
    },
    {
     "data": {
      "text/plain": "<IPython.core.display.HTML object>",
      "text/html": "Find logs at: <code>./wandb/run-20240117_193709-drjywbss/logs</code>"
     },
     "metadata": {},
     "output_type": "display_data"
    }
   ],
   "source": [
    "preprocessing_step(\n",
    "    params.PROJECT_NAME,\n",
    "    params.ENTITY,\n",
    "    params.QUALITY_FEATURES_COLUMNS,\n",
    "    params.TARGET_COLUMN,\n",
    "    params.TEST_SIZE\n",
    ")"
   ]
  },
  {
   "cell_type": "markdown",
   "metadata": {},
   "source": [
    "# Training the model"
   ]
  },
  {
   "cell_type": "code",
   "execution_count": 19,
   "metadata": {},
   "outputs": [],
   "source": [
    "def training_step(project_name, entity, target_column, model_name):\n",
    "    def training(train_x, train_y, test_x, test_y):\n",
    "        best_accuracy = 0\n",
    "        best_model = None\n",
    "        best_regularisation_parameter = None\n",
    "        i = 0.01\n",
    "        while i != 101:\n",
    "            model = LogisticRegression(solver='liblinear', penalty='l1', C=i).fit(train_x, train_y)\n",
    "            accuracy = model.score(test_x, test_y)\n",
    "            if accuracy > best_accuracy:\n",
    "                best_accuracy = accuracy\n",
    "                best_model = model\n",
    "                best_regularisation_parameter = i\n",
    "            i += 0.01 if i < 1 else 1\n",
    "\n",
    "        best_accuracy = 0\n",
    "        best_model_with_lesser_features = None\n",
    "        best_features = None\n",
    "        best_train_x = None\n",
    "        best_test_x = None\n",
    "        for n in range(2, 51):\n",
    "            feature_selector = SequentialFeatureSelector(\n",
    "                best_model,\n",
    "                n_features_to_select=n,\n",
    "                direction='backward',\n",
    "                scoring='accuracy'\n",
    "            ).fit(train_x, train_y)\n",
    "            new_train_x = feature_selector.transform(train_x)\n",
    "            new_test_x = feature_selector.transform(test_x)\n",
    "            new_trained_model = best_model.fit(new_train_x, train_y)\n",
    "            accuracy = new_trained_model.score(new_test_x, test_y)\n",
    "            if accuracy > best_accuracy:\n",
    "                best_accuracy = accuracy\n",
    "                best_model_with_lesser_features = deepcopy(new_trained_model)\n",
    "                best_features = list(feature_selector.get_feature_names_out())\n",
    "                best_train_x = new_train_x\n",
    "                best_test_x = new_test_x\n",
    "        return (\n",
    "            best_model_with_lesser_features,\n",
    "            best_features,\n",
    "            pd.DataFrame(best_train_x, columns=best_features),\n",
    "            pd.DataFrame(best_test_x, columns=best_features),\n",
    "            best_regularisation_parameter,\n",
    "            {\n",
    "                \"test_accuracy\": best_model_with_lesser_features.score(best_test_x, test_y),\n",
    "                \"train_accuracy\": best_model_with_lesser_features.score(best_train_x, train_y)\n",
    "            }\n",
    "        )\n",
    "\n",
    "    run = wandb.init(project=project_name, entity=entity, job_type=\"model_training\")\n",
    "    try:\n",
    "        preprocessed_data_artifact = run.use_artifact(\"preprocessed_data_artifact:latest\")\n",
    "        train_data = preprocessed_data_artifact.get(\"train_table\").get_dataframe()\n",
    "        test_data = preprocessed_data_artifact.get(\"test_table\").get_dataframe()\n",
    "    \n",
    "        train_x, train_y = separate_x_from_y(train_data, target_column)\n",
    "        test_x, test_y = separate_x_from_y(test_data, target_column)\n",
    "    \n",
    "        new_model, features, new_train_x, new_test_x, regularisation_parameter, accuracies = training(\n",
    "            train_x, train_y, test_x, test_y\n",
    "        )\n",
    "    \n",
    "        model_artifact = wandb.Artifact(\n",
    "            \"medical_logistic_regression_model_artifact\",\n",
    "            type=\"model\",\n",
    "            metadata={\n",
    "                \"regularisation_parameter\": regularisation_parameter,\n",
    "                \"features\": features,\n",
    "                \"train_accuracy\": accuracies[\"train_accuracy\"],\n",
    "                \"test_accuracy\": accuracies[\"test_accuracy\"]\n",
    "            }\n",
    "        )\n",
    "        serialized_model = dump(new_model, f\"models/{model_name}.joblib\")\n",
    "        model_artifact.add_file(f\"models/{model_name}.joblib\", f\"{model_name}\")\n",
    "    \n",
    "        run.log_artifact(model_artifact, aliases=[\"latest\"])\n",
    "        run.link_artifact(model_artifact, f\"george-sokolovsky2001/{project_name}\", aliases=[\"latest\"])\n",
    " \n",
    "        model_data_artifact = wandb.Artifact(\n",
    "            \"medical_logistic_regression_model_data_artifact\",\n",
    "            type=\"model_data\",\n",
    "            metadata={\n",
    "                \"train_row_count\": len(new_train_x),\n",
    "                \"test_row_count\": len(new_test_x),\n",
    "            }\n",
    "        )\n",
    "    \n",
    "        train_data = pd.concat([pd.DataFrame(new_train_x, columns=features), pd.Series(train_y)], axis=1)\n",
    "        train_table = create_table(model_data_artifact, train_data, list(train_data.columns), \"train_table\")\n",
    "    \n",
    "        test_data = pd.concat([pd.DataFrame(new_test_x, columns=features), pd.Series(test_y)], axis=1)\n",
    "        test_table = create_table(model_data_artifact, test_data, list(test_data.columns), \"test_table\")\n",
    "        run.log_artifact(model_data_artifact)\n",
    "    finally:\n",
    "        run.finish()"
   ]
  },
  {
   "cell_type": "code",
   "execution_count": 20,
   "metadata": {},
   "outputs": [
    {
     "data": {
      "text/plain": "<IPython.core.display.HTML object>",
      "text/html": "wandb version 0.16.2 is available!  To upgrade, please run:\n $ pip install wandb --upgrade"
     },
     "metadata": {},
     "output_type": "display_data"
    },
    {
     "data": {
      "text/plain": "<IPython.core.display.HTML object>",
      "text/html": "Tracking run with wandb version 0.16.1"
     },
     "metadata": {},
     "output_type": "display_data"
    },
    {
     "data": {
      "text/plain": "<IPython.core.display.HTML object>",
      "text/html": "Run data is saved locally in <code>/Users/georgesokolovsky/medical_logistical_regression/wandb/run-20240117_193722-znbhvh24</code>"
     },
     "metadata": {},
     "output_type": "display_data"
    },
    {
     "data": {
      "text/plain": "<IPython.core.display.HTML object>",
      "text/html": "Syncing run <strong><a href='https://wandb.ai/george-sokolovsky2001/medical-logistical-regression/runs/znbhvh24' target=\"_blank\">absurd-resonance-430</a></strong> to <a href='https://wandb.ai/george-sokolovsky2001/medical-logistical-regression' target=\"_blank\">Weights & Biases</a> (<a href='https://wandb.me/run' target=\"_blank\">docs</a>)<br/>"
     },
     "metadata": {},
     "output_type": "display_data"
    },
    {
     "data": {
      "text/plain": "<IPython.core.display.HTML object>",
      "text/html": " View project at <a href='https://wandb.ai/george-sokolovsky2001/medical-logistical-regression' target=\"_blank\">https://wandb.ai/george-sokolovsky2001/medical-logistical-regression</a>"
     },
     "metadata": {},
     "output_type": "display_data"
    },
    {
     "data": {
      "text/plain": "<IPython.core.display.HTML object>",
      "text/html": " View run at <a href='https://wandb.ai/george-sokolovsky2001/medical-logistical-regression/runs/znbhvh24' target=\"_blank\">https://wandb.ai/george-sokolovsky2001/medical-logistical-regression/runs/znbhvh24</a>"
     },
     "metadata": {},
     "output_type": "display_data"
    },
    {
     "name": "stderr",
     "output_type": "stream",
     "text": [
      "\u001B[34m\u001B[1mwandb\u001B[0m:   3 of 3 files downloaded.  \n",
      "\u001B[34m\u001B[1mwandb\u001B[0m:   3 of 3 files downloaded.  \n",
      "wandb: Network error (ConnectionError), entering retry loop.\n"
     ]
    },
    {
     "data": {
      "text/plain": "VBox(children=(Label(value='0.031 MB of 0.031 MB uploaded\\r'), FloatProgress(value=1.0, max=1.0)))",
      "application/vnd.jupyter.widget-view+json": {
       "version_major": 2,
       "version_minor": 0,
       "model_id": "0d21b14137904af280eb68122be271c5"
      }
     },
     "metadata": {},
     "output_type": "display_data"
    },
    {
     "data": {
      "text/plain": "<IPython.core.display.HTML object>",
      "text/html": " View run <strong style=\"color:#cdcd00\">absurd-resonance-430</strong> at: <a href='https://wandb.ai/george-sokolovsky2001/medical-logistical-regression/runs/znbhvh24' target=\"_blank\">https://wandb.ai/george-sokolovsky2001/medical-logistical-regression/runs/znbhvh24</a><br/> View job at <a href='https://wandb.ai/george-sokolovsky2001/medical-logistical-regression/jobs/QXJ0aWZhY3RDb2xsZWN0aW9uOjEzMDA2MTkwOQ==/version_details/v3' target=\"_blank\">https://wandb.ai/george-sokolovsky2001/medical-logistical-regression/jobs/QXJ0aWZhY3RDb2xsZWN0aW9uOjEzMDA2MTkwOQ==/version_details/v3</a><br/>Synced 6 W&B file(s), 0 media file(s), 3 artifact file(s) and 0 other file(s)"
     },
     "metadata": {},
     "output_type": "display_data"
    },
    {
     "data": {
      "text/plain": "<IPython.core.display.HTML object>",
      "text/html": "Find logs at: <code>./wandb/run-20240117_193722-znbhvh24/logs</code>"
     },
     "metadata": {},
     "output_type": "display_data"
    }
   ],
   "source": [
    "training_step(\n",
    "    params.PROJECT_NAME,\n",
    "    params.ENTITY,\n",
    "    params.TARGET_COLUMN,\n",
    "    params.MODEL_NAME\n",
    ")"
   ]
  },
  {
   "cell_type": "code",
   "execution_count": 21,
   "metadata": {},
   "outputs": [],
   "source": [
    "def monitoring_step(project_name, entity, target_column, model_name):\n",
    "    run = wandb.init(project=project_name, entity=entity, job_type=\"monitoring\")\n",
    "    try:\n",
    "        model_artifact = run.use_artifact(\"medical_logistic_regression_model_artifact:latest\")\n",
    "        model_dir = model_artifact.download()\n",
    "        model = load(f\"{model_dir}/{model_name}\")\n",
    "\n",
    "        model_data_artifact = run.use_artifact(\"medical_logistic_regression_model_data_artifact:latest\")\n",
    "        train_data = model_data_artifact.get(\"train_table\").get_dataframe()\n",
    "        test_data = model_data_artifact.get(\"test_table\").get_dataframe()\n",
    "\n",
    "        train_x, train_y = separate_x_from_y(train_data, target_column)\n",
    "        test_x, test_y = separate_x_from_y(test_data, target_column)\n",
    "\n",
    "        y_probas = model.predict_proba(test_x)\n",
    "        features = model_artifact.metadata[\"features\"]\n",
    "\n",
    "        wandb.sklearn.plot_learning_curve(model, train_x, train_y)\n",
    "        wandb.termlog('Logged learning curve.')\n",
    "        wandb.sklearn.plot_summary_metrics(model, X=train_x, y=train_y, X_test=test_x, y_test=test_y)\n",
    "        wandb.termlog('Logged summary metrics.')\n",
    "        wandb.sklearn.plot_class_proportions(train_y, test_y, features)\n",
    "        wandb.termlog('Logged class proportions.')\n",
    "        wandb.sklearn.plot_roc(test_y, y_probas, features)\n",
    "        wandb.termlog('Logged roc curve.')\n",
    "        wandb.sklearn.plot_precision_recall(test_y, y_probas, features)\n",
    "        wandb.termlog('Logged precision recall curve.')\n",
    "        wandb.sklearn.plot_feature_importances(model, features)\n",
    "        wandb.termlog('Logged feature importances.')\n",
    "\n",
    "    finally:\n",
    "        run.finish()"
   ]
  },
  {
   "cell_type": "code",
   "execution_count": 22,
   "metadata": {},
   "outputs": [
    {
     "data": {
      "text/plain": "<IPython.core.display.HTML object>",
      "text/html": "wandb version 0.16.2 is available!  To upgrade, please run:\n $ pip install wandb --upgrade"
     },
     "metadata": {},
     "output_type": "display_data"
    },
    {
     "data": {
      "text/plain": "<IPython.core.display.HTML object>",
      "text/html": "Tracking run with wandb version 0.16.1"
     },
     "metadata": {},
     "output_type": "display_data"
    },
    {
     "data": {
      "text/plain": "<IPython.core.display.HTML object>",
      "text/html": "Run data is saved locally in <code>/Users/georgesokolovsky/medical_logistical_regression/wandb/run-20240117_220120-5gdwlvza</code>"
     },
     "metadata": {},
     "output_type": "display_data"
    },
    {
     "data": {
      "text/plain": "<IPython.core.display.HTML object>",
      "text/html": "Syncing run <strong><a href='https://wandb.ai/george-sokolovsky2001/medical-logistical-regression/runs/5gdwlvza' target=\"_blank\">winter-mountain-431</a></strong> to <a href='https://wandb.ai/george-sokolovsky2001/medical-logistical-regression' target=\"_blank\">Weights & Biases</a> (<a href='https://wandb.me/run' target=\"_blank\">docs</a>)<br/>"
     },
     "metadata": {},
     "output_type": "display_data"
    },
    {
     "data": {
      "text/plain": "<IPython.core.display.HTML object>",
      "text/html": " View project at <a href='https://wandb.ai/george-sokolovsky2001/medical-logistical-regression' target=\"_blank\">https://wandb.ai/george-sokolovsky2001/medical-logistical-regression</a>"
     },
     "metadata": {},
     "output_type": "display_data"
    },
    {
     "data": {
      "text/plain": "<IPython.core.display.HTML object>",
      "text/html": " View run at <a href='https://wandb.ai/george-sokolovsky2001/medical-logistical-regression/runs/5gdwlvza' target=\"_blank\">https://wandb.ai/george-sokolovsky2001/medical-logistical-regression/runs/5gdwlvza</a>"
     },
     "metadata": {},
     "output_type": "display_data"
    },
    {
     "name": "stderr",
     "output_type": "stream",
     "text": [
      "\u001B[34m\u001B[1mwandb\u001B[0m:   1 of 1 files downloaded.  \n",
      "\u001B[34m\u001B[1mwandb\u001B[0m:   2 of 2 files downloaded.  \n",
      "\u001B[34m\u001B[1mwandb\u001B[0m:   2 of 2 files downloaded.  \n",
      "/opt/homebrew/Caskroom/miniforge/base/envs/medical_logistical_regression/lib/python3.10/site-packages/sklearn/base.py:458: UserWarning: X has feature names, but LogisticRegression was fitted without feature names\n",
      "  warnings.warn(\n",
      "\u001B[34m\u001B[1mwandb\u001B[0m: Logged learning curve.\n",
      "/opt/homebrew/Caskroom/miniforge/base/envs/medical_logistical_regression/lib/python3.10/site-packages/sklearn/base.py:458: UserWarning: X has feature names, but LogisticRegression was fitted without feature names\n",
      "  warnings.warn(\n",
      "\u001B[34m\u001B[1mwandb\u001B[0m: Logged summary metrics.\n",
      "\u001B[34m\u001B[1mwandb\u001B[0m: Logged class proportions.\n",
      "\u001B[34m\u001B[1mwandb\u001B[0m: Logged roc curve.\n",
      "\u001B[34m\u001B[1mwandb\u001B[0m: Logged precision recall curve.\n",
      "\u001B[34m\u001B[1mwandb\u001B[0m: Logged feature importances.\n"
     ]
    },
    {
     "data": {
      "text/plain": "VBox(children=(Label(value='0.016 MB of 0.016 MB uploaded\\r'), FloatProgress(value=1.0, max=1.0)))",
      "application/vnd.jupyter.widget-view+json": {
       "version_major": 2,
       "version_minor": 0,
       "model_id": "f0b780591b714283a6d3d60ef7551850"
      }
     },
     "metadata": {},
     "output_type": "display_data"
    },
    {
     "data": {
      "text/plain": "<IPython.core.display.HTML object>",
      "text/html": " View run <strong style=\"color:#cdcd00\">winter-mountain-431</strong> at: <a href='https://wandb.ai/george-sokolovsky2001/medical-logistical-regression/runs/5gdwlvza' target=\"_blank\">https://wandb.ai/george-sokolovsky2001/medical-logistical-regression/runs/5gdwlvza</a><br/> View job at <a href='https://wandb.ai/george-sokolovsky2001/medical-logistical-regression/jobs/QXJ0aWZhY3RDb2xsZWN0aW9uOjEzMDA2MTkwOQ==/version_details/v3' target=\"_blank\">https://wandb.ai/george-sokolovsky2001/medical-logistical-regression/jobs/QXJ0aWZhY3RDb2xsZWN0aW9uOjEzMDA2MTkwOQ==/version_details/v3</a><br/>Synced 6 W&B file(s), 6 media file(s), 6 artifact file(s) and 0 other file(s)"
     },
     "metadata": {},
     "output_type": "display_data"
    },
    {
     "data": {
      "text/plain": "<IPython.core.display.HTML object>",
      "text/html": "Find logs at: <code>./wandb/run-20240117_220120-5gdwlvza/logs</code>"
     },
     "metadata": {},
     "output_type": "display_data"
    }
   ],
   "source": [
    "monitoring_step(\n",
    "    params.PROJECT_NAME,\n",
    "    params.ENTITY,\n",
    "    params.TARGET_COLUMN,\n",
    "    params.MODEL_NAME\n",
    ")"
   ]
  },
  {
   "cell_type": "code",
   "execution_count": 23,
   "metadata": {},
   "outputs": [],
   "source": [
    "def deploy_to_prod(project_name, entity, model_name):\n",
    "    run = wandb.init(project=project_name, entity=entity, job_type=\"deploy\")\n",
    "    latest_model_artifact = run.use_artifact(\"medical_logistic_regression_model_artifact:latest\")\n",
    "    latest_model_train_accuracy = latest_model_artifact.metadata[\"train_accuracy\"]\n",
    "    latest_model_test_accuracy = latest_model_artifact.metadata[\"test_accuracy\"]\n",
    "    latest_model_data_artifact = run.use_artifact(\"medical_logistic_regression_model_data_artifact:latest\")\n",
    "\n",
    "    try:\n",
    "        # If we already have a production model, we'll compare it to the latest one\n",
    "        production_model_artifact = run.use_artifact(\"medical_logistic_regression_model_artifact:production\")\n",
    "        production_model_train_accuracy = production_model_artifact.metadata[\"train_accuracy\"]\n",
    "        production_model_test_accuracy = production_model_artifact.metadata[\"test_accuracy\"]\n",
    "        production_model_data_artifact = run.use_artifact(\"medical_logistic_regression_model_data_artifact:production\")\n",
    "\n",
    "        # If latest model showed more accuracy on test data than the production one, we add the production alias to it\n",
    "        if latest_model_test_accuracy > production_model_test_accuracy:\n",
    "            latest_model_artifact.aliases.append(\"production\")\n",
    "            latest_model_artifact.save()\n",
    "            latest_model_data_artifact.aliases.append(\"production\")\n",
    "            latest_model_data_artifact.save()\n",
    "            production_model_artifact.aliases.remove(\"production\")\n",
    "            production_model_artifact.save()\n",
    "            production_model_data_artifact.aliases.remove(\"production\")\n",
    "            production_model_data_artifact.save()\n",
    "    except Exception:\n",
    "        # If we don't have a production model yet, the latest model will be automatically marked as one.\n",
    "        latest_model_artifact.aliases.append(\"production\")\n",
    "        latest_model_artifact.save()\n",
    "        latest_model_data_artifact.aliases.append(\"production\")\n",
    "        latest_model_data_artifact.save()\n",
    "    finally:\n",
    "        run.finish()\n"
   ]
  },
  {
   "cell_type": "code",
   "execution_count": 24,
   "metadata": {},
   "outputs": [
    {
     "data": {
      "text/plain": "VBox(children=(Label(value='Waiting for wandb.init()...\\r'), FloatProgress(value=0.011168353699354662, max=1.0…",
      "application/vnd.jupyter.widget-view+json": {
       "version_major": 2,
       "version_minor": 0,
       "model_id": "b267f4af8515414997cf60fe2fadfbca"
      }
     },
     "metadata": {},
     "output_type": "display_data"
    },
    {
     "data": {
      "text/plain": "<IPython.core.display.HTML object>",
      "text/html": "wandb version 0.16.2 is available!  To upgrade, please run:\n $ pip install wandb --upgrade"
     },
     "metadata": {},
     "output_type": "display_data"
    },
    {
     "data": {
      "text/plain": "<IPython.core.display.HTML object>",
      "text/html": "Tracking run with wandb version 0.16.1"
     },
     "metadata": {},
     "output_type": "display_data"
    },
    {
     "data": {
      "text/plain": "<IPython.core.display.HTML object>",
      "text/html": "Run data is saved locally in <code>/Users/georgesokolovsky/medical_logistical_regression/wandb/run-20240117_220203-eoqm2rk5</code>"
     },
     "metadata": {},
     "output_type": "display_data"
    },
    {
     "data": {
      "text/plain": "<IPython.core.display.HTML object>",
      "text/html": "Syncing run <strong><a href='https://wandb.ai/george-sokolovsky2001/medical-logistical-regression/runs/eoqm2rk5' target=\"_blank\">morning-serenity-432</a></strong> to <a href='https://wandb.ai/george-sokolovsky2001/medical-logistical-regression' target=\"_blank\">Weights & Biases</a> (<a href='https://wandb.me/run' target=\"_blank\">docs</a>)<br/>"
     },
     "metadata": {},
     "output_type": "display_data"
    },
    {
     "data": {
      "text/plain": "<IPython.core.display.HTML object>",
      "text/html": " View project at <a href='https://wandb.ai/george-sokolovsky2001/medical-logistical-regression' target=\"_blank\">https://wandb.ai/george-sokolovsky2001/medical-logistical-regression</a>"
     },
     "metadata": {},
     "output_type": "display_data"
    },
    {
     "data": {
      "text/plain": "<IPython.core.display.HTML object>",
      "text/html": " View run at <a href='https://wandb.ai/george-sokolovsky2001/medical-logistical-regression/runs/eoqm2rk5' target=\"_blank\">https://wandb.ai/george-sokolovsky2001/medical-logistical-regression/runs/eoqm2rk5</a>"
     },
     "metadata": {},
     "output_type": "display_data"
    },
    {
     "data": {
      "text/plain": "VBox(children=(Label(value='0.001 MB of 0.009 MB uploaded\\r'), FloatProgress(value=0.11433812289819627, max=1.…",
      "application/vnd.jupyter.widget-view+json": {
       "version_major": 2,
       "version_minor": 0,
       "model_id": "757f0cb4a2634147aa0cea03724f2a65"
      }
     },
     "metadata": {},
     "output_type": "display_data"
    },
    {
     "data": {
      "text/plain": "<IPython.core.display.HTML object>",
      "text/html": " View run <strong style=\"color:#cdcd00\">morning-serenity-432</strong> at: <a href='https://wandb.ai/george-sokolovsky2001/medical-logistical-regression/runs/eoqm2rk5' target=\"_blank\">https://wandb.ai/george-sokolovsky2001/medical-logistical-regression/runs/eoqm2rk5</a><br/> View job at <a href='https://wandb.ai/george-sokolovsky2001/medical-logistical-regression/jobs/QXJ0aWZhY3RDb2xsZWN0aW9uOjEzMDA2MTkwOQ==/version_details/v3' target=\"_blank\">https://wandb.ai/george-sokolovsky2001/medical-logistical-regression/jobs/QXJ0aWZhY3RDb2xsZWN0aW9uOjEzMDA2MTkwOQ==/version_details/v3</a><br/>Synced 5 W&B file(s), 0 media file(s), 0 artifact file(s) and 0 other file(s)"
     },
     "metadata": {},
     "output_type": "display_data"
    },
    {
     "data": {
      "text/plain": "<IPython.core.display.HTML object>",
      "text/html": "Find logs at: <code>./wandb/run-20240117_220203-eoqm2rk5/logs</code>"
     },
     "metadata": {},
     "output_type": "display_data"
    }
   ],
   "source": [
    "deploy_to_prod(\n",
    "    params.PROJECT_NAME,\n",
    "    params.ENTITY,\n",
    "    params.MODEL_NAME\n",
    ")"
   ]
  },
  {
   "cell_type": "code",
   "execution_count": 24,
   "metadata": {},
   "outputs": [],
   "source": []
  },
  {
   "cell_type": "code",
   "execution_count": 24,
   "metadata": {},
   "outputs": [],
   "source": []
  }
 ],
 "metadata": {
  "kernelspec": {
   "display_name": "Python 3 (ipykernel)",
   "language": "python",
   "name": "python3"
  },
  "language_info": {
   "codemirror_mode": {
    "name": "ipython",
    "version": 3
   },
   "file_extension": ".py",
   "mimetype": "text/x-python",
   "name": "python",
   "nbconvert_exporter": "python",
   "pygments_lexer": "ipython3",
   "version": "3.10.13"
  }
 },
 "nbformat": 4,
 "nbformat_minor": 4
}
