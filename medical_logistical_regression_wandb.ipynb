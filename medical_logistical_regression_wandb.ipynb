{
 "cells": [
  {
   "cell_type": "code",
   "execution_count": 133,
   "metadata": {},
   "outputs": [],
   "source": [
    "import os\n",
    "import pandas as pd\n",
    "import numpy as np\n",
    "import wandb\n",
    "from sklearn.model_selection import train_test_split\n",
    "from sklearn.linear_model import LogisticRegression\n",
    "from sklearn.feature_selection import SequentialFeatureSelector\n",
    "from copy import deepcopy\n",
    "from joblib import dump, load\n",
    "from core import params\n",
    "from core.utils import *"
   ]
  },
  {
   "cell_type": "markdown",
   "metadata": {},
   "source": [
    "## Reading the data from Excel file and adding it as a W&B artifact"
   ]
  },
  {
   "cell_type": "code",
   "execution_count": 134,
   "metadata": {},
   "outputs": [],
   "source": [
    "prefix = \"raw_data\"\n",
    "file_name = \"data.xlsx\"\n",
    "data_location = f'{prefix}/{file_name}'"
   ]
  },
  {
   "cell_type": "code",
   "execution_count": 135,
   "metadata": {},
   "outputs": [],
   "source": [
    "def get_raw_data_step(project: str, entity: str, data_location: str):\n",
    "    data = pd.read_excel(data_location)\n",
    "\n",
    "    run = wandb.init(project=project, entity=entity, job_type=\"upload\")\n",
    "    raw_data_artifact = None\n",
    "    try:\n",
    "        raw_data_artifact = wandb.Artifact('raw_data_artifact', type=\"raw_data\")\n",
    "\n",
    "        column_names = list(data.columns)\n",
    "\n",
    "        create_table(raw_data_artifact, data, column_names, \"raw_table\")\n",
    "    except Exception as ex:\n",
    "        print(ex)\n",
    "        raw_data_artifact = None\n",
    "    finally:\n",
    "        if raw_data_artifact is not None:\n",
    "            run.log_artifact(raw_data_artifact)\n",
    "        run.finish()"
   ]
  },
  {
   "cell_type": "code",
   "execution_count": 136,
   "metadata": {
    "scrolled": true
   },
   "outputs": [
    {
     "data": {
      "text/plain": "<IPython.core.display.HTML object>",
      "text/html": "wandb version 0.16.2 is available!  To upgrade, please run:\n $ pip install wandb --upgrade"
     },
     "metadata": {},
     "output_type": "display_data"
    },
    {
     "data": {
      "text/plain": "<IPython.core.display.HTML object>",
      "text/html": "Tracking run with wandb version 0.16.1"
     },
     "metadata": {},
     "output_type": "display_data"
    },
    {
     "data": {
      "text/plain": "<IPython.core.display.HTML object>",
      "text/html": "Run data is saved locally in <code>/Users/georgesokolovsky/medical_logistical_regression/wandb/run-20240121_110606-ykz595jl</code>"
     },
     "metadata": {},
     "output_type": "display_data"
    },
    {
     "data": {
      "text/plain": "<IPython.core.display.HTML object>",
      "text/html": "Syncing run <strong><a href='https://wandb.ai/george-sokolovsky2001/medical-logistical-regression/runs/ykz595jl' target=\"_blank\">fearless-jazz-585</a></strong> to <a href='https://wandb.ai/george-sokolovsky2001/medical-logistical-regression' target=\"_blank\">Weights & Biases</a> (<a href='https://wandb.me/run' target=\"_blank\">docs</a>)<br/>"
     },
     "metadata": {},
     "output_type": "display_data"
    },
    {
     "data": {
      "text/plain": "<IPython.core.display.HTML object>",
      "text/html": " View project at <a href='https://wandb.ai/george-sokolovsky2001/medical-logistical-regression' target=\"_blank\">https://wandb.ai/george-sokolovsky2001/medical-logistical-regression</a>"
     },
     "metadata": {},
     "output_type": "display_data"
    },
    {
     "data": {
      "text/plain": "<IPython.core.display.HTML object>",
      "text/html": " View run at <a href='https://wandb.ai/george-sokolovsky2001/medical-logistical-regression/runs/ykz595jl' target=\"_blank\">https://wandb.ai/george-sokolovsky2001/medical-logistical-regression/runs/ykz595jl</a>"
     },
     "metadata": {},
     "output_type": "display_data"
    },
    {
     "data": {
      "text/plain": "VBox(children=(Label(value='0.001 MB of 0.004 MB uploaded\\r'), FloatProgress(value=0.27837099577849517, max=1.…",
      "application/vnd.jupyter.widget-view+json": {
       "version_major": 2,
       "version_minor": 0,
       "model_id": "8b31426c5a524ad483a65f2c09f5d7b8"
      }
     },
     "metadata": {},
     "output_type": "display_data"
    },
    {
     "data": {
      "text/plain": "<IPython.core.display.HTML object>",
      "text/html": " View run <strong style=\"color:#cdcd00\">fearless-jazz-585</strong> at: <a href='https://wandb.ai/george-sokolovsky2001/medical-logistical-regression/runs/ykz595jl' target=\"_blank\">https://wandb.ai/george-sokolovsky2001/medical-logistical-regression/runs/ykz595jl</a><br/> View job at <a href='https://wandb.ai/george-sokolovsky2001/medical-logistical-regression/jobs/QXJ0aWZhY3RDb2xsZWN0aW9uOjEzMDA2MTkwOQ==/version_details/v9' target=\"_blank\">https://wandb.ai/george-sokolovsky2001/medical-logistical-regression/jobs/QXJ0aWZhY3RDb2xsZWN0aW9uOjEzMDA2MTkwOQ==/version_details/v9</a><br/>Synced 5 W&B file(s), 0 media file(s), 0 artifact file(s) and 0 other file(s)"
     },
     "metadata": {},
     "output_type": "display_data"
    },
    {
     "data": {
      "text/plain": "<IPython.core.display.HTML object>",
      "text/html": "Find logs at: <code>./wandb/run-20240121_110606-ykz595jl/logs</code>"
     },
     "metadata": {},
     "output_type": "display_data"
    }
   ],
   "source": [
    "get_raw_data_step(\n",
    "    params.PROJECT_NAME,\n",
    "    params.ENTITY,\n",
    "    data_location\n",
    ")"
   ]
  },
  {
   "cell_type": "markdown",
   "metadata": {},
   "source": [
    "# Preprocessing"
   ]
  },
  {
   "cell_type": "code",
   "execution_count": 137,
   "metadata": {},
   "outputs": [],
   "source": [
    "def preprocessing_step(project_name, entity, quality_features_columns, target_column, test_size):\n",
    "    def preprocess(data: pd.DataFrame, quality_features_columns: List[str]):\n",
    "        data = data.drop(['N'], axis=1)\n",
    "        data = drop_records_with_many_nulls(data)\n",
    "        data = update_columns_with_nulls(data)\n",
    "        data = pd.get_dummies(data, columns=list(quality_features_columns), drop_first=True)\n",
    "        return data\n",
    "\n",
    "    run = wandb.init(project=project_name, entity=entity, job_type=\"train_data_preparation\")\n",
    "    preprocessed_data_artifact = None\n",
    "    try:\n",
    "        raw_data_artifact = run.use_artifact(f\"raw_data_artifact:latest\")\n",
    "        raw_data = raw_data_artifact.get(\"raw_table\").get_dataframe()\n",
    "        preprocessed_data = preprocess(raw_data, quality_features_columns)\n",
    "        x_train, x_test, y_train, y_test = split_data(preprocessed_data, target_column, test_size)\n",
    "        train_data = pd.concat([x_train, y_train], axis=1)\n",
    "        test_data = pd.concat([x_test, y_test], axis=1)\n",
    "\n",
    "        preprocessed_data_artifact = wandb.Artifact(\"preprocessed_data_artifact\", type=\"preprocessed_data\", metadata={\n",
    "            \"train_data_row_count\": len(train_data),\n",
    "            \"test_data_row_count\": len(test_data)\n",
    "        })\n",
    "        create_table(\n",
    "            preprocessed_data_artifact,\n",
    "            preprocessed_data,\n",
    "            list(preprocessed_data.columns),\n",
    "            \"preprocessed_data_table\"\n",
    "        )\n",
    "        create_table(\n",
    "            preprocessed_data_artifact,\n",
    "            train_data,\n",
    "            list(train_data.columns),\n",
    "            \"train_table\"\n",
    "        )\n",
    "        create_table(\n",
    "            preprocessed_data_artifact,\n",
    "            test_data,\n",
    "            list(test_data.columns),\n",
    "            \"test_table\"\n",
    "        )\n",
    "    except Exception as ex:\n",
    "        print(ex)\n",
    "        preprocessed_data_artifact = None\n",
    "    finally:\n",
    "        if preprocessed_data_artifact is not None:\n",
    "            run.log_artifact(preprocessed_data_artifact)\n",
    "        run.finish()"
   ]
  },
  {
   "cell_type": "code",
   "execution_count": 138,
   "metadata": {},
   "outputs": [
    {
     "data": {
      "text/plain": "VBox(children=(Label(value='Waiting for wandb.init()...\\r'), FloatProgress(value=0.011168594443653193, max=1.0…",
      "application/vnd.jupyter.widget-view+json": {
       "version_major": 2,
       "version_minor": 0,
       "model_id": "bf70124365fe4738af2308c1627842c5"
      }
     },
     "metadata": {},
     "output_type": "display_data"
    },
    {
     "data": {
      "text/plain": "<IPython.core.display.HTML object>",
      "text/html": "wandb version 0.16.2 is available!  To upgrade, please run:\n $ pip install wandb --upgrade"
     },
     "metadata": {},
     "output_type": "display_data"
    },
    {
     "data": {
      "text/plain": "<IPython.core.display.HTML object>",
      "text/html": "Tracking run with wandb version 0.16.1"
     },
     "metadata": {},
     "output_type": "display_data"
    },
    {
     "data": {
      "text/plain": "<IPython.core.display.HTML object>",
      "text/html": "Run data is saved locally in <code>/Users/georgesokolovsky/medical_logistical_regression/wandb/run-20240121_110614-z2ym3cut</code>"
     },
     "metadata": {},
     "output_type": "display_data"
    },
    {
     "data": {
      "text/plain": "<IPython.core.display.HTML object>",
      "text/html": "Syncing run <strong><a href='https://wandb.ai/george-sokolovsky2001/medical-logistical-regression/runs/z2ym3cut' target=\"_blank\">warm-deluge-586</a></strong> to <a href='https://wandb.ai/george-sokolovsky2001/medical-logistical-regression' target=\"_blank\">Weights & Biases</a> (<a href='https://wandb.me/run' target=\"_blank\">docs</a>)<br/>"
     },
     "metadata": {},
     "output_type": "display_data"
    },
    {
     "data": {
      "text/plain": "<IPython.core.display.HTML object>",
      "text/html": " View project at <a href='https://wandb.ai/george-sokolovsky2001/medical-logistical-regression' target=\"_blank\">https://wandb.ai/george-sokolovsky2001/medical-logistical-regression</a>"
     },
     "metadata": {},
     "output_type": "display_data"
    },
    {
     "data": {
      "text/plain": "<IPython.core.display.HTML object>",
      "text/html": " View run at <a href='https://wandb.ai/george-sokolovsky2001/medical-logistical-regression/runs/z2ym3cut' target=\"_blank\">https://wandb.ai/george-sokolovsky2001/medical-logistical-regression/runs/z2ym3cut</a>"
     },
     "metadata": {},
     "output_type": "display_data"
    },
    {
     "name": "stderr",
     "output_type": "stream",
     "text": [
      "\u001B[34m\u001B[1mwandb\u001B[0m:   1 of 1 files downloaded.  \n"
     ]
    },
    {
     "data": {
      "text/plain": "VBox(children=(Label(value='0.376 MB of 0.376 MB uploaded (0.176 MB deduped)\\r'), FloatProgress(value=1.0, max…",
      "application/vnd.jupyter.widget-view+json": {
       "version_major": 2,
       "version_minor": 0,
       "model_id": "d4eb5ce05a934703aa28484e2a51033b"
      }
     },
     "metadata": {},
     "output_type": "display_data"
    },
    {
     "data": {
      "text/plain": "<IPython.core.display.HTML object>",
      "text/html": "W&B sync reduced upload amount by 45.7%             "
     },
     "metadata": {},
     "output_type": "display_data"
    },
    {
     "data": {
      "text/plain": "<IPython.core.display.HTML object>",
      "text/html": " View run <strong style=\"color:#cdcd00\">warm-deluge-586</strong> at: <a href='https://wandb.ai/george-sokolovsky2001/medical-logistical-regression/runs/z2ym3cut' target=\"_blank\">https://wandb.ai/george-sokolovsky2001/medical-logistical-regression/runs/z2ym3cut</a><br/> View job at <a href='https://wandb.ai/george-sokolovsky2001/medical-logistical-regression/jobs/QXJ0aWZhY3RDb2xsZWN0aW9uOjEzMDA2MTkwOQ==/version_details/v9' target=\"_blank\">https://wandb.ai/george-sokolovsky2001/medical-logistical-regression/jobs/QXJ0aWZhY3RDb2xsZWN0aW9uOjEzMDA2MTkwOQ==/version_details/v9</a><br/>Synced 6 W&B file(s), 0 media file(s), 3 artifact file(s) and 0 other file(s)"
     },
     "metadata": {},
     "output_type": "display_data"
    },
    {
     "data": {
      "text/plain": "<IPython.core.display.HTML object>",
      "text/html": "Find logs at: <code>./wandb/run-20240121_110614-z2ym3cut/logs</code>"
     },
     "metadata": {},
     "output_type": "display_data"
    }
   ],
   "source": [
    "preprocessing_step(\n",
    "    params.PROJECT_NAME,\n",
    "    params.ENTITY,\n",
    "    params.QUALITY_FEATURES_COLUMNS,\n",
    "    params.TARGET_COLUMN,\n",
    "    params.TEST_SIZE\n",
    ")"
   ]
  },
  {
   "cell_type": "markdown",
   "metadata": {},
   "source": [
    "# Training the model"
   ]
  },
  {
   "cell_type": "code",
   "execution_count": 139,
   "metadata": {},
   "outputs": [],
   "source": [
    "def training_step(project_name, entity, target_column, model_name):\n",
    "    def training(train_x, train_y, test_x, test_y):\n",
    "        best_accuracy = 0\n",
    "        best_model = None\n",
    "        best_regularisation_parameter = None\n",
    "        i = 0.01\n",
    "        while i != 101:\n",
    "            model = LogisticRegression(solver='liblinear', penalty='l1', C=i).fit(train_x, train_y)\n",
    "            accuracy = model.score(test_x, test_y)\n",
    "            if accuracy > best_accuracy:\n",
    "                best_accuracy = accuracy\n",
    "                best_model = model\n",
    "                best_regularisation_parameter = i\n",
    "            i += 0.01 if i < 1 else 1\n",
    "\n",
    "        best_accuracy = 0\n",
    "        best_model_with_lesser_features = None\n",
    "        best_features = None\n",
    "        best_train_x = None\n",
    "        best_test_x = None\n",
    "        for n in range(2, 51):\n",
    "            feature_selector = SequentialFeatureSelector(\n",
    "                best_model,\n",
    "                n_features_to_select=n,\n",
    "                direction='backward',\n",
    "                scoring='accuracy'\n",
    "            ).fit(train_x, train_y)\n",
    "            new_train_x = feature_selector.transform(train_x)\n",
    "            new_test_x = feature_selector.transform(test_x)\n",
    "            new_trained_model = best_model.fit(new_train_x, train_y)\n",
    "            accuracy = new_trained_model.score(new_test_x, test_y)\n",
    "            if accuracy > best_accuracy:\n",
    "                best_accuracy = accuracy\n",
    "                best_model_with_lesser_features = deepcopy(new_trained_model)\n",
    "                best_features = list(feature_selector.get_feature_names_out())\n",
    "                best_train_x = new_train_x\n",
    "                best_test_x = new_test_x\n",
    "        return (\n",
    "            best_model_with_lesser_features,\n",
    "            best_features,\n",
    "            pd.DataFrame(best_train_x, columns=best_features),\n",
    "            pd.DataFrame(best_test_x, columns=best_features),\n",
    "            best_regularisation_parameter,\n",
    "            {\n",
    "                \"test_accuracy\": best_model_with_lesser_features.score(best_test_x, test_y),\n",
    "                \"train_accuracy\": best_model_with_lesser_features.score(best_train_x, train_y)\n",
    "            }\n",
    "        )\n",
    "\n",
    "    run = wandb.init(project=project_name, entity=entity, job_type=\"model_training\")\n",
    "    model_artifact = None\n",
    "    try:\n",
    "        preprocessed_data_artifact = run.use_artifact(\"preprocessed_data_artifact:latest\")\n",
    "        train_data = preprocessed_data_artifact.get(\"train_table\").get_dataframe()\n",
    "        test_data = preprocessed_data_artifact.get(\"test_table\").get_dataframe()\n",
    "    \n",
    "        train_x, train_y = separate_x_from_y(train_data, target_column)\n",
    "        test_x, test_y = separate_x_from_y(test_data, target_column)\n",
    "    \n",
    "        new_model, features, new_train_x, new_test_x, regularisation_parameter, accuracies = training(\n",
    "            train_x, train_y, test_x, test_y\n",
    "        )\n",
    "    \n",
    "        model_artifact = wandb.Artifact(\n",
    "            \"medical_logistic_regression_model_artifact\",\n",
    "            type=\"model\",\n",
    "            metadata={\n",
    "                \"regularisation_parameter\": regularisation_parameter,\n",
    "                \"features\": features,\n",
    "                \"train_accuracy\": accuracies[\"train_accuracy\"],\n",
    "                \"test_accuracy\": accuracies[\"test_accuracy\"],\n",
    "                \"train_row_count\": len(new_train_x),\n",
    "                \"test_row_count\": len(new_test_x),\n",
    "            }\n",
    "        )\n",
    "        model_artifact = save_model(new_model, \"models\", model_artifact, model_name)\n",
    "    \n",
    "        train_data = pd.concat([pd.DataFrame(new_train_x, columns=features), pd.Series(train_y)], axis=1)\n",
    "        create_table(model_artifact, train_data, list(train_data.columns), \"train_table\")\n",
    "    \n",
    "        test_data = pd.concat([pd.DataFrame(new_test_x, columns=features), pd.Series(test_y)], axis=1)\n",
    "        create_table(model_artifact, test_data, list(test_data.columns), \"test_table\")\n",
    "    except Exception as ex:\n",
    "        print(ex)\n",
    "        model_artifact = None\n",
    "    finally:\n",
    "        if model_artifact is not None:\n",
    "            run.log_artifact(model_artifact, aliases=[\"latest\"])\n",
    "        run.finish()"
   ]
  },
  {
   "cell_type": "code",
   "execution_count": 140,
   "metadata": {},
   "outputs": [
    {
     "data": {
      "text/plain": "VBox(children=(Label(value='Waiting for wandb.init()...\\r'), FloatProgress(value=0.011167872222399133, max=1.0…",
      "application/vnd.jupyter.widget-view+json": {
       "version_major": 2,
       "version_minor": 0,
       "model_id": "ff20bbf38a494cb4b47d14133e012e11"
      }
     },
     "metadata": {},
     "output_type": "display_data"
    },
    {
     "data": {
      "text/plain": "<IPython.core.display.HTML object>",
      "text/html": "wandb version 0.16.2 is available!  To upgrade, please run:\n $ pip install wandb --upgrade"
     },
     "metadata": {},
     "output_type": "display_data"
    },
    {
     "data": {
      "text/plain": "<IPython.core.display.HTML object>",
      "text/html": "Tracking run with wandb version 0.16.1"
     },
     "metadata": {},
     "output_type": "display_data"
    },
    {
     "data": {
      "text/plain": "<IPython.core.display.HTML object>",
      "text/html": "Run data is saved locally in <code>/Users/georgesokolovsky/medical_logistical_regression/wandb/run-20240121_110626-9ou0z3k7</code>"
     },
     "metadata": {},
     "output_type": "display_data"
    },
    {
     "data": {
      "text/plain": "<IPython.core.display.HTML object>",
      "text/html": "Syncing run <strong><a href='https://wandb.ai/george-sokolovsky2001/medical-logistical-regression/runs/9ou0z3k7' target=\"_blank\">atomic-sunset-587</a></strong> to <a href='https://wandb.ai/george-sokolovsky2001/medical-logistical-regression' target=\"_blank\">Weights & Biases</a> (<a href='https://wandb.me/run' target=\"_blank\">docs</a>)<br/>"
     },
     "metadata": {},
     "output_type": "display_data"
    },
    {
     "data": {
      "text/plain": "<IPython.core.display.HTML object>",
      "text/html": " View project at <a href='https://wandb.ai/george-sokolovsky2001/medical-logistical-regression' target=\"_blank\">https://wandb.ai/george-sokolovsky2001/medical-logistical-regression</a>"
     },
     "metadata": {},
     "output_type": "display_data"
    },
    {
     "data": {
      "text/plain": "<IPython.core.display.HTML object>",
      "text/html": " View run at <a href='https://wandb.ai/george-sokolovsky2001/medical-logistical-regression/runs/9ou0z3k7' target=\"_blank\">https://wandb.ai/george-sokolovsky2001/medical-logistical-regression/runs/9ou0z3k7</a>"
     },
     "metadata": {},
     "output_type": "display_data"
    },
    {
     "name": "stderr",
     "output_type": "stream",
     "text": [
      "\u001B[34m\u001B[1mwandb\u001B[0m:   3 of 3 files downloaded.  \n",
      "\u001B[34m\u001B[1mwandb\u001B[0m:   3 of 3 files downloaded.  \n"
     ]
    },
    {
     "data": {
      "text/plain": "VBox(children=(Label(value='0.009 MB of 0.009 MB uploaded\\r'), FloatProgress(value=1.0, max=1.0)))",
      "application/vnd.jupyter.widget-view+json": {
       "version_major": 2,
       "version_minor": 0,
       "model_id": "3cf1bbd98c5641679dee3eb52fc170e7"
      }
     },
     "metadata": {},
     "output_type": "display_data"
    },
    {
     "data": {
      "text/plain": "<IPython.core.display.HTML object>",
      "text/html": " View run <strong style=\"color:#cdcd00\">atomic-sunset-587</strong> at: <a href='https://wandb.ai/george-sokolovsky2001/medical-logistical-regression/runs/9ou0z3k7' target=\"_blank\">https://wandb.ai/george-sokolovsky2001/medical-logistical-regression/runs/9ou0z3k7</a><br/> View job at <a href='https://wandb.ai/george-sokolovsky2001/medical-logistical-regression/jobs/QXJ0aWZhY3RDb2xsZWN0aW9uOjEzMDA2MTkwOQ==/version_details/v9' target=\"_blank\">https://wandb.ai/george-sokolovsky2001/medical-logistical-regression/jobs/QXJ0aWZhY3RDb2xsZWN0aW9uOjEzMDA2MTkwOQ==/version_details/v9</a><br/>Synced 6 W&B file(s), 0 media file(s), 3 artifact file(s) and 0 other file(s)"
     },
     "metadata": {},
     "output_type": "display_data"
    },
    {
     "data": {
      "text/plain": "<IPython.core.display.HTML object>",
      "text/html": "Find logs at: <code>./wandb/run-20240121_110626-9ou0z3k7/logs</code>"
     },
     "metadata": {},
     "output_type": "display_data"
    }
   ],
   "source": [
    "training_step(\n",
    "    params.PROJECT_NAME,\n",
    "    params.ENTITY,\n",
    "    params.TARGET_COLUMN,\n",
    "    params.MODEL_NAME\n",
    ")"
   ]
  },
  {
   "cell_type": "code",
   "execution_count": 141,
   "metadata": {},
   "outputs": [],
   "source": [
    "def monitoring_step(project_name, entity, target_column, model_name):\n",
    "    run = wandb.init(project=project_name, entity=entity, job_type=\"monitoring\")\n",
    "    try:\n",
    "        model_artifact = run.use_artifact(\"medical_logistic_regression_model_artifact:latest\")\n",
    "        model_dir = model_artifact.download()\n",
    "        model = load(f\"{model_dir}/{model_name}\")\n",
    "        train_data = model_artifact.get(\"train_table\").get_dataframe()\n",
    "        test_data = model_artifact.get(\"test_table\").get_dataframe()\n",
    "\n",
    "        train_x, train_y = separate_x_from_y(train_data, target_column)\n",
    "        test_x, test_y = separate_x_from_y(test_data, target_column)\n",
    "\n",
    "        y_probas = model.predict_proba(test_x)\n",
    "        features = model_artifact.metadata[\"features\"]\n",
    "\n",
    "        wandb.sklearn.plot_learning_curve(model, train_x, train_y)\n",
    "        wandb.termlog('Logged learning curve.')\n",
    "        wandb.sklearn.plot_summary_metrics(model, X=train_x, y=train_y, X_test=test_x, y_test=test_y)\n",
    "        wandb.termlog('Logged summary metrics.')\n",
    "        wandb.sklearn.plot_class_proportions(train_y, test_y, [target_column])\n",
    "        wandb.termlog('Logged class proportions.')\n",
    "        wandb.sklearn.plot_roc(test_y, y_probas, [target_column])\n",
    "        wandb.termlog('Logged roc curve.')\n",
    "        wandb.sklearn.plot_precision_recall(test_y, y_probas, [target_column])\n",
    "        wandb.termlog('Logged precision recall curve.')\n",
    "        wandb.sklearn.plot_feature_importances(model, features)\n",
    "        wandb.termlog('Logged feature importances.')\n",
    "\n",
    "    finally:\n",
    "        run.finish()"
   ]
  },
  {
   "cell_type": "code",
   "execution_count": 142,
   "metadata": {},
   "outputs": [
    {
     "data": {
      "text/plain": "VBox(children=(Label(value='Waiting for wandb.init()...\\r'), FloatProgress(value=0.011168044444639235, max=1.0…",
      "application/vnd.jupyter.widget-view+json": {
       "version_major": 2,
       "version_minor": 0,
       "model_id": "5a9130cc5f5d4bccb35b34e76cfbc5f0"
      }
     },
     "metadata": {},
     "output_type": "display_data"
    },
    {
     "data": {
      "text/plain": "<IPython.core.display.HTML object>",
      "text/html": "wandb version 0.16.2 is available!  To upgrade, please run:\n $ pip install wandb --upgrade"
     },
     "metadata": {},
     "output_type": "display_data"
    },
    {
     "data": {
      "text/plain": "<IPython.core.display.HTML object>",
      "text/html": "Tracking run with wandb version 0.16.1"
     },
     "metadata": {},
     "output_type": "display_data"
    },
    {
     "data": {
      "text/plain": "<IPython.core.display.HTML object>",
      "text/html": "Run data is saved locally in <code>/Users/georgesokolovsky/medical_logistical_regression/wandb/run-20240121_112057-o3dzonyi</code>"
     },
     "metadata": {},
     "output_type": "display_data"
    },
    {
     "data": {
      "text/plain": "<IPython.core.display.HTML object>",
      "text/html": "Syncing run <strong><a href='https://wandb.ai/george-sokolovsky2001/medical-logistical-regression/runs/o3dzonyi' target=\"_blank\">silver-music-588</a></strong> to <a href='https://wandb.ai/george-sokolovsky2001/medical-logistical-regression' target=\"_blank\">Weights & Biases</a> (<a href='https://wandb.me/run' target=\"_blank\">docs</a>)<br/>"
     },
     "metadata": {},
     "output_type": "display_data"
    },
    {
     "data": {
      "text/plain": "<IPython.core.display.HTML object>",
      "text/html": " View project at <a href='https://wandb.ai/george-sokolovsky2001/medical-logistical-regression' target=\"_blank\">https://wandb.ai/george-sokolovsky2001/medical-logistical-regression</a>"
     },
     "metadata": {},
     "output_type": "display_data"
    },
    {
     "data": {
      "text/plain": "<IPython.core.display.HTML object>",
      "text/html": " View run at <a href='https://wandb.ai/george-sokolovsky2001/medical-logistical-regression/runs/o3dzonyi' target=\"_blank\">https://wandb.ai/george-sokolovsky2001/medical-logistical-regression/runs/o3dzonyi</a>"
     },
     "metadata": {},
     "output_type": "display_data"
    },
    {
     "name": "stderr",
     "output_type": "stream",
     "text": [
      "\u001B[34m\u001B[1mwandb\u001B[0m:   3 of 3 files downloaded.  \n",
      "\u001B[34m\u001B[1mwandb\u001B[0m:   3 of 3 files downloaded.  \n",
      "\u001B[34m\u001B[1mwandb\u001B[0m:   3 of 3 files downloaded.  \n",
      "/opt/homebrew/Caskroom/miniforge/base/envs/medical_logistical_regression/lib/python3.10/site-packages/sklearn/base.py:458: UserWarning: X has feature names, but LogisticRegression was fitted without feature names\n",
      "  warnings.warn(\n",
      "\u001B[34m\u001B[1mwandb\u001B[0m: Logged learning curve.\n",
      "/opt/homebrew/Caskroom/miniforge/base/envs/medical_logistical_regression/lib/python3.10/site-packages/sklearn/base.py:458: UserWarning: X has feature names, but LogisticRegression was fitted without feature names\n",
      "  warnings.warn(\n",
      "\u001B[34m\u001B[1mwandb\u001B[0m: Logged summary metrics.\n",
      "\u001B[34m\u001B[1mwandb\u001B[0m: Logged class proportions.\n",
      "\u001B[34m\u001B[1mwandb\u001B[0m: Logged roc curve.\n",
      "\u001B[34m\u001B[1mwandb\u001B[0m: Logged precision recall curve.\n",
      "\u001B[34m\u001B[1mwandb\u001B[0m: Logged feature importances.\n"
     ]
    },
    {
     "data": {
      "text/plain": "VBox(children=(Label(value='0.007 MB of 0.007 MB uploaded\\r'), FloatProgress(value=1.0, max=1.0)))",
      "application/vnd.jupyter.widget-view+json": {
       "version_major": 2,
       "version_minor": 0,
       "model_id": "7da4c9c754804f419539b1cd0d0aa9ce"
      }
     },
     "metadata": {},
     "output_type": "display_data"
    },
    {
     "data": {
      "text/plain": "<IPython.core.display.HTML object>",
      "text/html": " View run <strong style=\"color:#cdcd00\">silver-music-588</strong> at: <a href='https://wandb.ai/george-sokolovsky2001/medical-logistical-regression/runs/o3dzonyi' target=\"_blank\">https://wandb.ai/george-sokolovsky2001/medical-logistical-regression/runs/o3dzonyi</a><br/> View job at <a href='https://wandb.ai/george-sokolovsky2001/medical-logistical-regression/jobs/QXJ0aWZhY3RDb2xsZWN0aW9uOjEzMDA2MTkwOQ==/version_details/v9' target=\"_blank\">https://wandb.ai/george-sokolovsky2001/medical-logistical-regression/jobs/QXJ0aWZhY3RDb2xsZWN0aW9uOjEzMDA2MTkwOQ==/version_details/v9</a><br/>Synced 6 W&B file(s), 6 media file(s), 6 artifact file(s) and 0 other file(s)"
     },
     "metadata": {},
     "output_type": "display_data"
    },
    {
     "data": {
      "text/plain": "<IPython.core.display.HTML object>",
      "text/html": "Find logs at: <code>./wandb/run-20240121_112057-o3dzonyi/logs</code>"
     },
     "metadata": {},
     "output_type": "display_data"
    }
   ],
   "source": [
    "monitoring_step(\n",
    "    params.PROJECT_NAME,\n",
    "    params.ENTITY,\n",
    "    params.TARGET_COLUMN,\n",
    "    params.MODEL_NAME\n",
    ")"
   ]
  },
  {
   "cell_type": "code",
   "execution_count": 143,
   "metadata": {},
   "outputs": [],
   "source": [
    "def deploy_to_prod(project_name, entity, model_name):\n",
    "    run = wandb.init(project=project_name, entity=entity, job_type=\"deploy\")\n",
    "    latest_model_artifact = run.use_artifact(\"medical_logistic_regression_model_artifact:latest\")\n",
    "    latest_model_test_accuracy = latest_model_artifact.metadata[\"test_accuracy\"]\n",
    "\n",
    "    try:\n",
    "        # If we already have a production model, we'll compare it to the latest one\n",
    "        production_model_artifact = run.use_artifact(\"medical_logistic_regression_model_artifact:production\")\n",
    "        production_model_test_accuracy = production_model_artifact.metadata[\"test_accuracy\"]\n",
    "\n",
    "        # If latest model showed more accuracy on test data than the production one, we add the production alias to it\n",
    "        if latest_model_test_accuracy > production_model_test_accuracy:\n",
    "            latest_model_artifact.aliases.append(\"production\")\n",
    "            latest_model_artifact.save()\n",
    "            production_model_artifact.aliases.remove(\"production\")\n",
    "            production_model_artifact.save()\n",
    "            run.link_artifact(latest_model_artifact, f\"george-sokolovsky2001/{project_name}\")\n",
    "    except Exception:\n",
    "        # If we don't have a production model yet, the latest model will be automatically marked as one.\n",
    "        latest_model_artifact.aliases.append(\"production\")\n",
    "        latest_model_artifact.save()\n",
    "        run.link_artifact(latest_model_artifact, f\"george-sokolovsky2001/{project_name}\")\n",
    "    finally:\n",
    "        run.finish()\n"
   ]
  },
  {
   "cell_type": "code",
   "execution_count": 144,
   "metadata": {},
   "outputs": [
    {
     "data": {
      "text/plain": "VBox(children=(Label(value='Waiting for wandb.init()...\\r'), FloatProgress(value=0.011168865744386696, max=1.0…",
      "application/vnd.jupyter.widget-view+json": {
       "version_major": 2,
       "version_minor": 0,
       "model_id": "985a680d15ab4bb6a3937356f38a44bd"
      }
     },
     "metadata": {},
     "output_type": "display_data"
    },
    {
     "data": {
      "text/plain": "<IPython.core.display.HTML object>",
      "text/html": "wandb version 0.16.2 is available!  To upgrade, please run:\n $ pip install wandb --upgrade"
     },
     "metadata": {},
     "output_type": "display_data"
    },
    {
     "data": {
      "text/plain": "<IPython.core.display.HTML object>",
      "text/html": "Tracking run with wandb version 0.16.1"
     },
     "metadata": {},
     "output_type": "display_data"
    },
    {
     "data": {
      "text/plain": "<IPython.core.display.HTML object>",
      "text/html": "Run data is saved locally in <code>/Users/georgesokolovsky/medical_logistical_regression/wandb/run-20240121_112126-5hquxdbb</code>"
     },
     "metadata": {},
     "output_type": "display_data"
    },
    {
     "data": {
      "text/plain": "<IPython.core.display.HTML object>",
      "text/html": "Syncing run <strong><a href='https://wandb.ai/george-sokolovsky2001/medical-logistical-regression/runs/5hquxdbb' target=\"_blank\">zesty-armadillo-589</a></strong> to <a href='https://wandb.ai/george-sokolovsky2001/medical-logistical-regression' target=\"_blank\">Weights & Biases</a> (<a href='https://wandb.me/run' target=\"_blank\">docs</a>)<br/>"
     },
     "metadata": {},
     "output_type": "display_data"
    },
    {
     "data": {
      "text/plain": "<IPython.core.display.HTML object>",
      "text/html": " View project at <a href='https://wandb.ai/george-sokolovsky2001/medical-logistical-regression' target=\"_blank\">https://wandb.ai/george-sokolovsky2001/medical-logistical-regression</a>"
     },
     "metadata": {},
     "output_type": "display_data"
    },
    {
     "data": {
      "text/plain": "<IPython.core.display.HTML object>",
      "text/html": " View run at <a href='https://wandb.ai/george-sokolovsky2001/medical-logistical-regression/runs/5hquxdbb' target=\"_blank\">https://wandb.ai/george-sokolovsky2001/medical-logistical-regression/runs/5hquxdbb</a>"
     },
     "metadata": {},
     "output_type": "display_data"
    },
    {
     "data": {
      "text/plain": "VBox(children=(Label(value='0.001 MB of 0.004 MB uploaded\\r'), FloatProgress(value=0.27837099577849517, max=1.…",
      "application/vnd.jupyter.widget-view+json": {
       "version_major": 2,
       "version_minor": 0,
       "model_id": "4892cf5c4c554443926c9590da4e2342"
      }
     },
     "metadata": {},
     "output_type": "display_data"
    },
    {
     "data": {
      "text/plain": "<IPython.core.display.HTML object>",
      "text/html": " View run <strong style=\"color:#cdcd00\">zesty-armadillo-589</strong> at: <a href='https://wandb.ai/george-sokolovsky2001/medical-logistical-regression/runs/5hquxdbb' target=\"_blank\">https://wandb.ai/george-sokolovsky2001/medical-logistical-regression/runs/5hquxdbb</a><br/> View job at <a href='https://wandb.ai/george-sokolovsky2001/medical-logistical-regression/jobs/QXJ0aWZhY3RDb2xsZWN0aW9uOjEzMDA2MTkwOQ==/version_details/v9' target=\"_blank\">https://wandb.ai/george-sokolovsky2001/medical-logistical-regression/jobs/QXJ0aWZhY3RDb2xsZWN0aW9uOjEzMDA2MTkwOQ==/version_details/v9</a><br/>Synced 5 W&B file(s), 0 media file(s), 0 artifact file(s) and 0 other file(s)"
     },
     "metadata": {},
     "output_type": "display_data"
    },
    {
     "data": {
      "text/plain": "<IPython.core.display.HTML object>",
      "text/html": "Find logs at: <code>./wandb/run-20240121_112126-5hquxdbb/logs</code>"
     },
     "metadata": {},
     "output_type": "display_data"
    }
   ],
   "source": [
    "deploy_to_prod(\n",
    "    params.PROJECT_NAME,\n",
    "    params.ENTITY,\n",
    "    params.MODEL_NAME\n",
    ")"
   ]
  },
  {
   "cell_type": "code",
   "execution_count": 144,
   "metadata": {},
   "outputs": [],
   "source": []
  },
  {
   "cell_type": "code",
   "execution_count": 144,
   "metadata": {},
   "outputs": [],
   "source": []
  }
 ],
 "metadata": {
  "kernelspec": {
   "display_name": "Python 3 (ipykernel)",
   "language": "python",
   "name": "python3"
  },
  "language_info": {
   "codemirror_mode": {
    "name": "ipython",
    "version": 3
   },
   "file_extension": ".py",
   "mimetype": "text/x-python",
   "name": "python",
   "nbconvert_exporter": "python",
   "pygments_lexer": "ipython3",
   "version": "3.10.13"
  }
 },
 "nbformat": 4,
 "nbformat_minor": 4
}
